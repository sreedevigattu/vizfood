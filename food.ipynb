{
 "cells": [
  {
   "cell_type": "code",
   "execution_count": 353,
   "source": [
    "import pandas as pd\r\n",
    "\r\n",
    "import matplotlib.pyplot as plt\r\n",
    "import seaborn as sns\r\n",
    "\r\n",
    "import numpy as np"
   ],
   "outputs": [],
   "metadata": {}
  },
  {
   "cell_type": "markdown",
   "source": [
    "- Restaurant - Number of branches - Locations\r\n",
    "- Restaurant - Cuisines\r\n",
    "- Restaurant - Popularity (Number of Branches, Votes, Reviews)\r\n",
    "- Restaurant - Cost\r\n",
    "- Restaurant - Delivery Time\r\n",
    "\r\n",
    "\r\n",
    "- Cuisine - Number of Branches, Votes, Reviews)\r\n",
    "- Group the cuisines into categories - Regional, \r\n",
    "- Popular cuisine\r\n",
    "- Pocket friendly cuisine\r\n",
    "\r\n",
    "Location\r\n",
    "- Which City/Location    has most eating out culture?\r\n",
    "- Pocket friendly\r\n",
    "- Delivery time"
   ],
   "metadata": {}
  },
  {
   "cell_type": "markdown",
   "source": [
    "## Read dataset & inspect"
   ],
   "metadata": {}
  },
  {
   "cell_type": "code",
   "execution_count": 354,
   "source": [
    "food = pd.read_excel('data/Data_Train.xlsx')\r\n",
    "food"
   ],
   "outputs": [
    {
     "output_type": "execute_result",
     "data": {
      "text/html": [
       "<div>\n",
       "<style scoped>\n",
       "    .dataframe tbody tr th:only-of-type {\n",
       "        vertical-align: middle;\n",
       "    }\n",
       "\n",
       "    .dataframe tbody tr th {\n",
       "        vertical-align: top;\n",
       "    }\n",
       "\n",
       "    .dataframe thead th {\n",
       "        text-align: right;\n",
       "    }\n",
       "</style>\n",
       "<table border=\"1\" class=\"dataframe\">\n",
       "  <thead>\n",
       "    <tr style=\"text-align: right;\">\n",
       "      <th></th>\n",
       "      <th>Restaurant</th>\n",
       "      <th>Location</th>\n",
       "      <th>Cuisines</th>\n",
       "      <th>Average_Cost</th>\n",
       "      <th>Minimum_Order</th>\n",
       "      <th>Rating</th>\n",
       "      <th>Votes</th>\n",
       "      <th>Reviews</th>\n",
       "      <th>Delivery_Time</th>\n",
       "    </tr>\n",
       "  </thead>\n",
       "  <tbody>\n",
       "    <tr>\n",
       "      <th>0</th>\n",
       "      <td>ID_6321</td>\n",
       "      <td>FTI College, Law College Road, Pune</td>\n",
       "      <td>Fast Food, Rolls, Burger, Salad, Wraps</td>\n",
       "      <td>₹200</td>\n",
       "      <td>₹50</td>\n",
       "      <td>3.5</td>\n",
       "      <td>12</td>\n",
       "      <td>4</td>\n",
       "      <td>30 minutes</td>\n",
       "    </tr>\n",
       "    <tr>\n",
       "      <th>1</th>\n",
       "      <td>ID_2882</td>\n",
       "      <td>Sector 3, Marathalli</td>\n",
       "      <td>Ice Cream, Desserts</td>\n",
       "      <td>₹100</td>\n",
       "      <td>₹50</td>\n",
       "      <td>3.5</td>\n",
       "      <td>11</td>\n",
       "      <td>4</td>\n",
       "      <td>30 minutes</td>\n",
       "    </tr>\n",
       "    <tr>\n",
       "      <th>2</th>\n",
       "      <td>ID_1595</td>\n",
       "      <td>Mumbai Central</td>\n",
       "      <td>Italian, Street Food, Fast Food</td>\n",
       "      <td>₹150</td>\n",
       "      <td>₹50</td>\n",
       "      <td>3.6</td>\n",
       "      <td>99</td>\n",
       "      <td>30</td>\n",
       "      <td>65 minutes</td>\n",
       "    </tr>\n",
       "    <tr>\n",
       "      <th>3</th>\n",
       "      <td>ID_5929</td>\n",
       "      <td>Sector 1, Noida</td>\n",
       "      <td>Mughlai, North Indian, Chinese</td>\n",
       "      <td>₹250</td>\n",
       "      <td>₹99</td>\n",
       "      <td>3.7</td>\n",
       "      <td>176</td>\n",
       "      <td>95</td>\n",
       "      <td>30 minutes</td>\n",
       "    </tr>\n",
       "    <tr>\n",
       "      <th>4</th>\n",
       "      <td>ID_6123</td>\n",
       "      <td>Rmz Centennial, I Gate, Whitefield</td>\n",
       "      <td>Cafe, Beverages</td>\n",
       "      <td>₹200</td>\n",
       "      <td>₹99</td>\n",
       "      <td>3.2</td>\n",
       "      <td>521</td>\n",
       "      <td>235</td>\n",
       "      <td>65 minutes</td>\n",
       "    </tr>\n",
       "    <tr>\n",
       "      <th>...</th>\n",
       "      <td>...</td>\n",
       "      <td>...</td>\n",
       "      <td>...</td>\n",
       "      <td>...</td>\n",
       "      <td>...</td>\n",
       "      <td>...</td>\n",
       "      <td>...</td>\n",
       "      <td>...</td>\n",
       "      <td>...</td>\n",
       "    </tr>\n",
       "    <tr>\n",
       "      <th>11089</th>\n",
       "      <td>ID_8067</td>\n",
       "      <td>BTM Layout 1, Electronic City</td>\n",
       "      <td>Tibetan, Chinese, Continental, Momos</td>\n",
       "      <td>₹250</td>\n",
       "      <td>₹50</td>\n",
       "      <td>4.2</td>\n",
       "      <td>326</td>\n",
       "      <td>189</td>\n",
       "      <td>30 minutes</td>\n",
       "    </tr>\n",
       "    <tr>\n",
       "      <th>11090</th>\n",
       "      <td>ID_4620</td>\n",
       "      <td>Sector 14, Noida</td>\n",
       "      <td>Fast Food</td>\n",
       "      <td>₹100</td>\n",
       "      <td>₹50</td>\n",
       "      <td>3.6</td>\n",
       "      <td>36</td>\n",
       "      <td>16</td>\n",
       "      <td>30 minutes</td>\n",
       "    </tr>\n",
       "    <tr>\n",
       "      <th>11091</th>\n",
       "      <td>ID_3392</td>\n",
       "      <td>Majestic</td>\n",
       "      <td>South Indian, Chinese, North Indian</td>\n",
       "      <td>₹100</td>\n",
       "      <td>₹50</td>\n",
       "      <td>3.5</td>\n",
       "      <td>45</td>\n",
       "      <td>18</td>\n",
       "      <td>30 minutes</td>\n",
       "    </tr>\n",
       "    <tr>\n",
       "      <th>11092</th>\n",
       "      <td>ID_4115</td>\n",
       "      <td>Sector 3, Marathalli</td>\n",
       "      <td>North Indian</td>\n",
       "      <td>₹100</td>\n",
       "      <td>₹50</td>\n",
       "      <td>3.1</td>\n",
       "      <td>24</td>\n",
       "      <td>9</td>\n",
       "      <td>30 minutes</td>\n",
       "    </tr>\n",
       "    <tr>\n",
       "      <th>11093</th>\n",
       "      <td>ID_4417</td>\n",
       "      <td>Sector 63A,Gurgaon</td>\n",
       "      <td>North Indian</td>\n",
       "      <td>₹100</td>\n",
       "      <td>₹50</td>\n",
       "      <td>NEW</td>\n",
       "      <td>-</td>\n",
       "      <td>-</td>\n",
       "      <td>30 minutes</td>\n",
       "    </tr>\n",
       "  </tbody>\n",
       "</table>\n",
       "<p>11094 rows × 9 columns</p>\n",
       "</div>"
      ],
      "text/plain": [
       "      Restaurant                             Location  \\\n",
       "0        ID_6321  FTI College, Law College Road, Pune   \n",
       "1        ID_2882                 Sector 3, Marathalli   \n",
       "2        ID_1595                       Mumbai Central   \n",
       "3        ID_5929                      Sector 1, Noida   \n",
       "4        ID_6123   Rmz Centennial, I Gate, Whitefield   \n",
       "...          ...                                  ...   \n",
       "11089    ID_8067        BTM Layout 1, Electronic City   \n",
       "11090    ID_4620                     Sector 14, Noida   \n",
       "11091    ID_3392                             Majestic   \n",
       "11092    ID_4115                 Sector 3, Marathalli   \n",
       "11093    ID_4417                   Sector 63A,Gurgaon   \n",
       "\n",
       "                                     Cuisines Average_Cost Minimum_Order  \\\n",
       "0      Fast Food, Rolls, Burger, Salad, Wraps         ₹200           ₹50   \n",
       "1                         Ice Cream, Desserts         ₹100           ₹50   \n",
       "2             Italian, Street Food, Fast Food         ₹150           ₹50   \n",
       "3              Mughlai, North Indian, Chinese         ₹250           ₹99   \n",
       "4                             Cafe, Beverages         ₹200           ₹99   \n",
       "...                                       ...          ...           ...   \n",
       "11089    Tibetan, Chinese, Continental, Momos         ₹250           ₹50   \n",
       "11090                               Fast Food         ₹100           ₹50   \n",
       "11091     South Indian, Chinese, North Indian         ₹100           ₹50   \n",
       "11092                            North Indian         ₹100           ₹50   \n",
       "11093                            North Indian         ₹100           ₹50   \n",
       "\n",
       "      Rating Votes Reviews Delivery_Time  \n",
       "0        3.5    12       4    30 minutes  \n",
       "1        3.5    11       4    30 minutes  \n",
       "2        3.6    99      30    65 minutes  \n",
       "3        3.7   176      95    30 minutes  \n",
       "4        3.2   521     235    65 minutes  \n",
       "...      ...   ...     ...           ...  \n",
       "11089    4.2   326     189    30 minutes  \n",
       "11090    3.6    36      16    30 minutes  \n",
       "11091    3.5    45      18    30 minutes  \n",
       "11092    3.1    24       9    30 minutes  \n",
       "11093    NEW     -       -    30 minutes  \n",
       "\n",
       "[11094 rows x 9 columns]"
      ]
     },
     "metadata": {},
     "execution_count": 354
    }
   ],
   "metadata": {}
  },
  {
   "cell_type": "code",
   "execution_count": 355,
   "source": [
    "food.info()"
   ],
   "outputs": [
    {
     "output_type": "stream",
     "name": "stdout",
     "text": [
      "<class 'pandas.core.frame.DataFrame'>\n",
      "RangeIndex: 11094 entries, 0 to 11093\n",
      "Data columns (total 9 columns):\n",
      " #   Column         Non-Null Count  Dtype \n",
      "---  ------         --------------  ----- \n",
      " 0   Restaurant     11094 non-null  object\n",
      " 1   Location       11094 non-null  object\n",
      " 2   Cuisines       11094 non-null  object\n",
      " 3   Average_Cost   11094 non-null  object\n",
      " 4   Minimum_Order  11094 non-null  object\n",
      " 5   Rating         11094 non-null  object\n",
      " 6   Votes          11094 non-null  object\n",
      " 7   Reviews        11094 non-null  object\n",
      " 8   Delivery_Time  11094 non-null  object\n",
      "dtypes: object(9)\n",
      "memory usage: 780.2+ KB\n"
     ]
    }
   ],
   "metadata": {}
  },
  {
   "cell_type": "code",
   "execution_count": 356,
   "source": [
    "food.describe()"
   ],
   "outputs": [
    {
     "output_type": "execute_result",
     "data": {
      "text/html": [
       "<div>\n",
       "<style scoped>\n",
       "    .dataframe tbody tr th:only-of-type {\n",
       "        vertical-align: middle;\n",
       "    }\n",
       "\n",
       "    .dataframe tbody tr th {\n",
       "        vertical-align: top;\n",
       "    }\n",
       "\n",
       "    .dataframe thead th {\n",
       "        text-align: right;\n",
       "    }\n",
       "</style>\n",
       "<table border=\"1\" class=\"dataframe\">\n",
       "  <thead>\n",
       "    <tr style=\"text-align: right;\">\n",
       "      <th></th>\n",
       "      <th>Restaurant</th>\n",
       "      <th>Location</th>\n",
       "      <th>Cuisines</th>\n",
       "      <th>Average_Cost</th>\n",
       "      <th>Minimum_Order</th>\n",
       "      <th>Rating</th>\n",
       "      <th>Votes</th>\n",
       "      <th>Reviews</th>\n",
       "      <th>Delivery_Time</th>\n",
       "    </tr>\n",
       "  </thead>\n",
       "  <tbody>\n",
       "    <tr>\n",
       "      <th>count</th>\n",
       "      <td>11094</td>\n",
       "      <td>11094</td>\n",
       "      <td>11094</td>\n",
       "      <td>11094</td>\n",
       "      <td>11094</td>\n",
       "      <td>11094</td>\n",
       "      <td>11094</td>\n",
       "      <td>11094</td>\n",
       "      <td>11094</td>\n",
       "    </tr>\n",
       "    <tr>\n",
       "      <th>unique</th>\n",
       "      <td>7480</td>\n",
       "      <td>35</td>\n",
       "      <td>2179</td>\n",
       "      <td>26</td>\n",
       "      <td>18</td>\n",
       "      <td>33</td>\n",
       "      <td>1103</td>\n",
       "      <td>761</td>\n",
       "      <td>7</td>\n",
       "    </tr>\n",
       "    <tr>\n",
       "      <th>top</th>\n",
       "      <td>ID_7184</td>\n",
       "      <td>Mico Layout, Stage 2, BTM Layout,Bangalore</td>\n",
       "      <td>North Indian</td>\n",
       "      <td>₹200</td>\n",
       "      <td>₹50</td>\n",
       "      <td>-</td>\n",
       "      <td>-</td>\n",
       "      <td>-</td>\n",
       "      <td>30 minutes</td>\n",
       "    </tr>\n",
       "    <tr>\n",
       "      <th>freq</th>\n",
       "      <td>22</td>\n",
       "      <td>947</td>\n",
       "      <td>850</td>\n",
       "      <td>3241</td>\n",
       "      <td>10118</td>\n",
       "      <td>1191</td>\n",
       "      <td>2074</td>\n",
       "      <td>2312</td>\n",
       "      <td>7406</td>\n",
       "    </tr>\n",
       "  </tbody>\n",
       "</table>\n",
       "</div>"
      ],
      "text/plain": [
       "       Restaurant                                    Location      Cuisines  \\\n",
       "count       11094                                       11094         11094   \n",
       "unique       7480                                          35          2179   \n",
       "top       ID_7184  Mico Layout, Stage 2, BTM Layout,Bangalore  North Indian   \n",
       "freq           22                                         947           850   \n",
       "\n",
       "       Average_Cost Minimum_Order Rating  Votes Reviews Delivery_Time  \n",
       "count         11094         11094  11094  11094   11094         11094  \n",
       "unique           26            18     33   1103     761             7  \n",
       "top            ₹200           ₹50      -      -       -    30 minutes  \n",
       "freq           3241         10118   1191   2074    2312          7406  "
      ]
     },
     "metadata": {},
     "execution_count": 356
    }
   ],
   "metadata": {}
  },
  {
   "cell_type": "code",
   "execution_count": 357,
   "source": [
    "food.head()"
   ],
   "outputs": [
    {
     "output_type": "execute_result",
     "data": {
      "text/html": [
       "<div>\n",
       "<style scoped>\n",
       "    .dataframe tbody tr th:only-of-type {\n",
       "        vertical-align: middle;\n",
       "    }\n",
       "\n",
       "    .dataframe tbody tr th {\n",
       "        vertical-align: top;\n",
       "    }\n",
       "\n",
       "    .dataframe thead th {\n",
       "        text-align: right;\n",
       "    }\n",
       "</style>\n",
       "<table border=\"1\" class=\"dataframe\">\n",
       "  <thead>\n",
       "    <tr style=\"text-align: right;\">\n",
       "      <th></th>\n",
       "      <th>Restaurant</th>\n",
       "      <th>Location</th>\n",
       "      <th>Cuisines</th>\n",
       "      <th>Average_Cost</th>\n",
       "      <th>Minimum_Order</th>\n",
       "      <th>Rating</th>\n",
       "      <th>Votes</th>\n",
       "      <th>Reviews</th>\n",
       "      <th>Delivery_Time</th>\n",
       "    </tr>\n",
       "  </thead>\n",
       "  <tbody>\n",
       "    <tr>\n",
       "      <th>0</th>\n",
       "      <td>ID_6321</td>\n",
       "      <td>FTI College, Law College Road, Pune</td>\n",
       "      <td>Fast Food, Rolls, Burger, Salad, Wraps</td>\n",
       "      <td>₹200</td>\n",
       "      <td>₹50</td>\n",
       "      <td>3.5</td>\n",
       "      <td>12</td>\n",
       "      <td>4</td>\n",
       "      <td>30 minutes</td>\n",
       "    </tr>\n",
       "    <tr>\n",
       "      <th>1</th>\n",
       "      <td>ID_2882</td>\n",
       "      <td>Sector 3, Marathalli</td>\n",
       "      <td>Ice Cream, Desserts</td>\n",
       "      <td>₹100</td>\n",
       "      <td>₹50</td>\n",
       "      <td>3.5</td>\n",
       "      <td>11</td>\n",
       "      <td>4</td>\n",
       "      <td>30 minutes</td>\n",
       "    </tr>\n",
       "    <tr>\n",
       "      <th>2</th>\n",
       "      <td>ID_1595</td>\n",
       "      <td>Mumbai Central</td>\n",
       "      <td>Italian, Street Food, Fast Food</td>\n",
       "      <td>₹150</td>\n",
       "      <td>₹50</td>\n",
       "      <td>3.6</td>\n",
       "      <td>99</td>\n",
       "      <td>30</td>\n",
       "      <td>65 minutes</td>\n",
       "    </tr>\n",
       "    <tr>\n",
       "      <th>3</th>\n",
       "      <td>ID_5929</td>\n",
       "      <td>Sector 1, Noida</td>\n",
       "      <td>Mughlai, North Indian, Chinese</td>\n",
       "      <td>₹250</td>\n",
       "      <td>₹99</td>\n",
       "      <td>3.7</td>\n",
       "      <td>176</td>\n",
       "      <td>95</td>\n",
       "      <td>30 minutes</td>\n",
       "    </tr>\n",
       "    <tr>\n",
       "      <th>4</th>\n",
       "      <td>ID_6123</td>\n",
       "      <td>Rmz Centennial, I Gate, Whitefield</td>\n",
       "      <td>Cafe, Beverages</td>\n",
       "      <td>₹200</td>\n",
       "      <td>₹99</td>\n",
       "      <td>3.2</td>\n",
       "      <td>521</td>\n",
       "      <td>235</td>\n",
       "      <td>65 minutes</td>\n",
       "    </tr>\n",
       "  </tbody>\n",
       "</table>\n",
       "</div>"
      ],
      "text/plain": [
       "  Restaurant                             Location  \\\n",
       "0    ID_6321  FTI College, Law College Road, Pune   \n",
       "1    ID_2882                 Sector 3, Marathalli   \n",
       "2    ID_1595                       Mumbai Central   \n",
       "3    ID_5929                      Sector 1, Noida   \n",
       "4    ID_6123   Rmz Centennial, I Gate, Whitefield   \n",
       "\n",
       "                                 Cuisines Average_Cost Minimum_Order Rating  \\\n",
       "0  Fast Food, Rolls, Burger, Salad, Wraps         ₹200           ₹50    3.5   \n",
       "1                     Ice Cream, Desserts         ₹100           ₹50    3.5   \n",
       "2         Italian, Street Food, Fast Food         ₹150           ₹50    3.6   \n",
       "3          Mughlai, North Indian, Chinese         ₹250           ₹99    3.7   \n",
       "4                         Cafe, Beverages         ₹200           ₹99    3.2   \n",
       "\n",
       "  Votes Reviews Delivery_Time  \n",
       "0    12       4    30 minutes  \n",
       "1    11       4    30 minutes  \n",
       "2    99      30    65 minutes  \n",
       "3   176      95    30 minutes  \n",
       "4   521     235    65 minutes  "
      ]
     },
     "metadata": {},
     "execution_count": 357
    }
   ],
   "metadata": {}
  },
  {
   "cell_type": "code",
   "execution_count": 358,
   "source": [
    "len(food['Restaurant'].unique().tolist())"
   ],
   "outputs": [
    {
     "output_type": "execute_result",
     "data": {
      "text/plain": [
       "7480"
      ]
     },
     "metadata": {},
     "execution_count": 358
    }
   ],
   "metadata": {}
  },
  {
   "cell_type": "markdown",
   "source": [
    "## Preporcessing\n",
    "- Convert to correct format\n",
    "- Handle Missing/invalid value\n",
    "\n",
    "- Average_Cost : Convert to int\n",
    "- Rating, Votes, Reviews : \n",
    "    - Convert to int\n",
    "    - All non-ints --> NaNs --> 0"
   ],
   "metadata": {}
  },
  {
   "cell_type": "code",
   "execution_count": 359,
   "source": [
    "# Delivery_time\r\n",
    "print(food['Delivery_Time'].head(3))\r\n",
    "food['Delivery_Time'] = food['Delivery_Time'].apply(lambda x: str(x.replace(' minutes','')))\r\n",
    "food['Delivery_Time'] = pd.to_numeric(food['Delivery_Time'], errors='coerce')\r\n",
    "food['Delivery_Time'].isnull().sum()\r\n",
    "print(food.shape[0])\r\n",
    "food.dropna(inplace=True)\r\n",
    "print(food.shape[0])\r\n",
    "food['Delivery_Time'].head(3)"
   ],
   "outputs": [
    {
     "output_type": "stream",
     "name": "stdout",
     "text": [
      "0    30 minutes\n",
      "1    30 minutes\n",
      "2    65 minutes\n",
      "Name: Delivery_Time, dtype: object\n",
      "11094\n",
      "11094\n"
     ]
    },
    {
     "output_type": "execute_result",
     "data": {
      "text/plain": [
       "0    30\n",
       "1    30\n",
       "2    65\n",
       "Name: Delivery_Time, dtype: int64"
      ]
     },
     "metadata": {},
     "execution_count": 359
    }
   ],
   "metadata": {}
  },
  {
   "cell_type": "code",
   "execution_count": 360,
   "source": [
    "# Average_Cost\r\n",
    "print(food['Average_Cost'].head(3))\r\n",
    "food['Average_Cost'] = food['Average_Cost'].apply(lambda x: str(x[1:].replace(',','')))\r\n",
    "food['Average_Cost'] = pd.to_numeric(food['Average_Cost'], errors='coerce')\r\n",
    "food['Average_Cost'].isnull().sum()\r\n",
    "print(food.shape[0])\r\n",
    "food.dropna(inplace=True)\r\n",
    "print(food.shape[0])\r\n",
    "food['Average_Cost'].head(3)"
   ],
   "outputs": [
    {
     "output_type": "stream",
     "name": "stdout",
     "text": [
      "0    ₹200\n",
      "1    ₹100\n",
      "2    ₹150\n",
      "Name: Average_Cost, dtype: object\n",
      "11094\n",
      "11093\n"
     ]
    },
    {
     "output_type": "execute_result",
     "data": {
      "text/plain": [
       "0    200.0\n",
       "1    100.0\n",
       "2    150.0\n",
       "Name: Average_Cost, dtype: float64"
      ]
     },
     "metadata": {},
     "execution_count": 360
    }
   ],
   "metadata": {}
  },
  {
   "cell_type": "code",
   "execution_count": 361,
   "source": [
    "# Rating, Votes, Reviews\r\n",
    "food['Rating'] = pd.to_numeric(food['Rating'], errors='coerce')\r\n",
    "food['Votes'] = pd.to_numeric(food['Votes'], errors='coerce')\r\n",
    "food['Reviews'] = pd.to_numeric(food['Reviews'], errors='coerce')\r\n",
    "print(food[['Rating','Votes','Reviews']].isnull().sum())\r\n",
    "food[['Rating','Votes','Reviews']] = food[['Rating','Votes','Reviews']].fillna(0)\r\n",
    "print(food[['Rating','Votes','Reviews']].isnull().sum())"
   ],
   "outputs": [
    {
     "output_type": "stream",
     "name": "stdout",
     "text": [
      "Rating     1962\n",
      "Votes      2073\n",
      "Reviews    2311\n",
      "dtype: int64\n",
      "Rating     0\n",
      "Votes      0\n",
      "Reviews    0\n",
      "dtype: int64\n"
     ]
    }
   ],
   "metadata": {}
  },
  {
   "cell_type": "code",
   "execution_count": 362,
   "source": [
    "food.dtypes"
   ],
   "outputs": [
    {
     "output_type": "execute_result",
     "data": {
      "text/plain": [
       "Restaurant        object\n",
       "Location          object\n",
       "Cuisines          object\n",
       "Average_Cost     float64\n",
       "Minimum_Order     object\n",
       "Rating           float64\n",
       "Votes            float64\n",
       "Reviews          float64\n",
       "Delivery_Time      int64\n",
       "dtype: object"
      ]
     },
     "metadata": {},
     "execution_count": 362
    }
   ],
   "metadata": {}
  },
  {
   "cell_type": "code",
   "execution_count": 363,
   "source": [
    "# Extract city from the location and add it as a column"
   ],
   "outputs": [],
   "metadata": {}
  },
  {
   "cell_type": "markdown",
   "source": [
    "## food_location"
   ],
   "metadata": {}
  },
  {
   "cell_type": "code",
   "execution_count": 364,
   "source": [
    "food.groupby(by='Location').agg({'Restaurant':'count'}).sort_values(by='Restaurant', ascending=False)"
   ],
   "outputs": [
    {
     "output_type": "execute_result",
     "data": {
      "text/html": [
       "<div>\n",
       "<style scoped>\n",
       "    .dataframe tbody tr th:only-of-type {\n",
       "        vertical-align: middle;\n",
       "    }\n",
       "\n",
       "    .dataframe tbody tr th {\n",
       "        vertical-align: top;\n",
       "    }\n",
       "\n",
       "    .dataframe thead th {\n",
       "        text-align: right;\n",
       "    }\n",
       "</style>\n",
       "<table border=\"1\" class=\"dataframe\">\n",
       "  <thead>\n",
       "    <tr style=\"text-align: right;\">\n",
       "      <th></th>\n",
       "      <th>Restaurant</th>\n",
       "    </tr>\n",
       "    <tr>\n",
       "      <th>Location</th>\n",
       "      <th></th>\n",
       "    </tr>\n",
       "  </thead>\n",
       "  <tbody>\n",
       "    <tr>\n",
       "      <th>Mico Layout, Stage 2, BTM Layout,Bangalore</th>\n",
       "      <td>947</td>\n",
       "    </tr>\n",
       "    <tr>\n",
       "      <th>D-Block, Sector 63, Noida</th>\n",
       "      <td>806</td>\n",
       "    </tr>\n",
       "    <tr>\n",
       "      <th>Sector 1, Noida</th>\n",
       "      <td>791</td>\n",
       "    </tr>\n",
       "    <tr>\n",
       "      <th>FTI College, Law College Road, Pune</th>\n",
       "      <td>584</td>\n",
       "    </tr>\n",
       "    <tr>\n",
       "      <th>Delhi University-GTB Nagar</th>\n",
       "      <td>545</td>\n",
       "    </tr>\n",
       "    <tr>\n",
       "      <th>Laxman Vihar Industrial Area, Sector 3A, Gurgoan</th>\n",
       "      <td>493</td>\n",
       "    </tr>\n",
       "    <tr>\n",
       "      <th>Sector 14, Noida</th>\n",
       "      <td>489</td>\n",
       "    </tr>\n",
       "    <tr>\n",
       "      <th>Delhi Administration Flats, Timarpur</th>\n",
       "      <td>472</td>\n",
       "    </tr>\n",
       "    <tr>\n",
       "      <th>Mumbai Central</th>\n",
       "      <td>459</td>\n",
       "    </tr>\n",
       "    <tr>\n",
       "      <th>Rmz Centennial, I Gate, Whitefield</th>\n",
       "      <td>457</td>\n",
       "    </tr>\n",
       "    <tr>\n",
       "      <th>Delhi High Court, India Gate</th>\n",
       "      <td>411</td>\n",
       "    </tr>\n",
       "    <tr>\n",
       "      <th>MG Road, Pune</th>\n",
       "      <td>402</td>\n",
       "    </tr>\n",
       "    <tr>\n",
       "      <th>Nathan Road, Mangaldas Road, Pune</th>\n",
       "      <td>372</td>\n",
       "    </tr>\n",
       "    <tr>\n",
       "      <th>Sandhurst Road, Mumbai CST Area</th>\n",
       "      <td>370</td>\n",
       "    </tr>\n",
       "    <tr>\n",
       "      <th>Sector 3, Marathalli</th>\n",
       "      <td>366</td>\n",
       "    </tr>\n",
       "    <tr>\n",
       "      <th>Majestic</th>\n",
       "      <td>334</td>\n",
       "    </tr>\n",
       "    <tr>\n",
       "      <th>Delhi Cantt.</th>\n",
       "      <td>326</td>\n",
       "    </tr>\n",
       "    <tr>\n",
       "      <th>Yerawada, Pune, Maharashtra</th>\n",
       "      <td>307</td>\n",
       "    </tr>\n",
       "    <tr>\n",
       "      <th>Dockyard Road, Mumbai CST Area</th>\n",
       "      <td>291</td>\n",
       "    </tr>\n",
       "    <tr>\n",
       "      <th>Babarpur, New Delhi, Delhi</th>\n",
       "      <td>282</td>\n",
       "    </tr>\n",
       "    <tr>\n",
       "      <th>Pune University</th>\n",
       "      <td>277</td>\n",
       "    </tr>\n",
       "    <tr>\n",
       "      <th>Sector 63A,Gurgaon</th>\n",
       "      <td>260</td>\n",
       "    </tr>\n",
       "    <tr>\n",
       "      <th>Moulali, Kolkata</th>\n",
       "      <td>137</td>\n",
       "    </tr>\n",
       "    <tr>\n",
       "      <th>Chandni Chowk, Kolkata</th>\n",
       "      <td>126</td>\n",
       "    </tr>\n",
       "    <tr>\n",
       "      <th>Tejas Nagar Colony, Wadala West, Mumbai</th>\n",
       "      <td>109</td>\n",
       "    </tr>\n",
       "    <tr>\n",
       "      <th>Raja Bazar, Kolkata</th>\n",
       "      <td>108</td>\n",
       "    </tr>\n",
       "    <tr>\n",
       "      <th>Tiretti, Kolkata</th>\n",
       "      <td>96</td>\n",
       "    </tr>\n",
       "    <tr>\n",
       "      <th>Hyderabad Public School, Begumpet</th>\n",
       "      <td>81</td>\n",
       "    </tr>\n",
       "    <tr>\n",
       "      <th>Gora Bazar, Rajbari, North Dumdum, Kolkata</th>\n",
       "      <td>79</td>\n",
       "    </tr>\n",
       "    <tr>\n",
       "      <th>Noorkhan Bazaar, Malakpet, Hyderabad</th>\n",
       "      <td>68</td>\n",
       "    </tr>\n",
       "    <tr>\n",
       "      <th>Musi Nagar, Malakpet, Hyderabad</th>\n",
       "      <td>68</td>\n",
       "    </tr>\n",
       "    <tr>\n",
       "      <th>Panjetan Colony, Malakpet, Hyderabad</th>\n",
       "      <td>56</td>\n",
       "    </tr>\n",
       "    <tr>\n",
       "      <th>Chatta Bazaar, Malakpet, Hyderabad</th>\n",
       "      <td>54</td>\n",
       "    </tr>\n",
       "    <tr>\n",
       "      <th>Jaya Nagar, Saidabad, Hyderabad</th>\n",
       "      <td>48</td>\n",
       "    </tr>\n",
       "    <tr>\n",
       "      <th>BTM Layout 1, Electronic City</th>\n",
       "      <td>22</td>\n",
       "    </tr>\n",
       "  </tbody>\n",
       "</table>\n",
       "</div>"
      ],
      "text/plain": [
       "                                                  Restaurant\n",
       "Location                                                    \n",
       "Mico Layout, Stage 2, BTM Layout,Bangalore               947\n",
       "D-Block, Sector 63, Noida                                806\n",
       "Sector 1, Noida                                          791\n",
       "FTI College, Law College Road, Pune                      584\n",
       "Delhi University-GTB Nagar                               545\n",
       "Laxman Vihar Industrial Area, Sector 3A, Gurgoan         493\n",
       "Sector 14, Noida                                         489\n",
       "Delhi Administration Flats, Timarpur                     472\n",
       "Mumbai Central                                           459\n",
       "Rmz Centennial, I Gate, Whitefield                       457\n",
       "Delhi High Court, India Gate                             411\n",
       "MG Road, Pune                                            402\n",
       "Nathan Road, Mangaldas Road, Pune                        372\n",
       "Sandhurst Road, Mumbai CST Area                          370\n",
       "Sector 3, Marathalli                                     366\n",
       "Majestic                                                 334\n",
       "Delhi Cantt.                                             326\n",
       "Yerawada, Pune, Maharashtra                              307\n",
       "Dockyard Road, Mumbai CST Area                           291\n",
       "Babarpur, New Delhi, Delhi                               282\n",
       "Pune University                                          277\n",
       "Sector 63A,Gurgaon                                       260\n",
       "Moulali, Kolkata                                         137\n",
       "Chandni Chowk, Kolkata                                   126\n",
       "Tejas Nagar Colony, Wadala West, Mumbai                  109\n",
       "Raja Bazar, Kolkata                                      108\n",
       "Tiretti, Kolkata                                          96\n",
       "Hyderabad Public School, Begumpet                         81\n",
       "Gora Bazar, Rajbari, North Dumdum, Kolkata                79\n",
       "Noorkhan Bazaar, Malakpet, Hyderabad                      68\n",
       "Musi Nagar, Malakpet, Hyderabad                           68\n",
       "Panjetan Colony, Malakpet, Hyderabad                      56\n",
       "Chatta Bazaar, Malakpet, Hyderabad                        54\n",
       "Jaya Nagar, Saidabad, Hyderabad                           48\n",
       "BTM Layout 1, Electronic City                             22"
      ]
     },
     "metadata": {},
     "execution_count": 364
    }
   ],
   "metadata": {}
  },
  {
   "cell_type": "code",
   "execution_count": 365,
   "source": [
    "#food['City'] = food['Location'].apply(lambda x : len(x.split(',')))\r\n",
    "food['City'] = food['Location'].apply(lambda x: x.split(',')[-1].strip() if len(x.split(',')) > 0 else x.split(',')[0].strip())\r\n",
    "food.head()"
   ],
   "outputs": [
    {
     "output_type": "execute_result",
     "data": {
      "text/html": [
       "<div>\n",
       "<style scoped>\n",
       "    .dataframe tbody tr th:only-of-type {\n",
       "        vertical-align: middle;\n",
       "    }\n",
       "\n",
       "    .dataframe tbody tr th {\n",
       "        vertical-align: top;\n",
       "    }\n",
       "\n",
       "    .dataframe thead th {\n",
       "        text-align: right;\n",
       "    }\n",
       "</style>\n",
       "<table border=\"1\" class=\"dataframe\">\n",
       "  <thead>\n",
       "    <tr style=\"text-align: right;\">\n",
       "      <th></th>\n",
       "      <th>Restaurant</th>\n",
       "      <th>Location</th>\n",
       "      <th>Cuisines</th>\n",
       "      <th>Average_Cost</th>\n",
       "      <th>Minimum_Order</th>\n",
       "      <th>Rating</th>\n",
       "      <th>Votes</th>\n",
       "      <th>Reviews</th>\n",
       "      <th>Delivery_Time</th>\n",
       "      <th>City</th>\n",
       "    </tr>\n",
       "  </thead>\n",
       "  <tbody>\n",
       "    <tr>\n",
       "      <th>0</th>\n",
       "      <td>ID_6321</td>\n",
       "      <td>FTI College, Law College Road, Pune</td>\n",
       "      <td>Fast Food, Rolls, Burger, Salad, Wraps</td>\n",
       "      <td>200.0</td>\n",
       "      <td>₹50</td>\n",
       "      <td>3.5</td>\n",
       "      <td>12.0</td>\n",
       "      <td>4.0</td>\n",
       "      <td>30</td>\n",
       "      <td>Pune</td>\n",
       "    </tr>\n",
       "    <tr>\n",
       "      <th>1</th>\n",
       "      <td>ID_2882</td>\n",
       "      <td>Sector 3, Marathalli</td>\n",
       "      <td>Ice Cream, Desserts</td>\n",
       "      <td>100.0</td>\n",
       "      <td>₹50</td>\n",
       "      <td>3.5</td>\n",
       "      <td>11.0</td>\n",
       "      <td>4.0</td>\n",
       "      <td>30</td>\n",
       "      <td>Marathalli</td>\n",
       "    </tr>\n",
       "    <tr>\n",
       "      <th>2</th>\n",
       "      <td>ID_1595</td>\n",
       "      <td>Mumbai Central</td>\n",
       "      <td>Italian, Street Food, Fast Food</td>\n",
       "      <td>150.0</td>\n",
       "      <td>₹50</td>\n",
       "      <td>3.6</td>\n",
       "      <td>99.0</td>\n",
       "      <td>30.0</td>\n",
       "      <td>65</td>\n",
       "      <td>Mumbai Central</td>\n",
       "    </tr>\n",
       "    <tr>\n",
       "      <th>3</th>\n",
       "      <td>ID_5929</td>\n",
       "      <td>Sector 1, Noida</td>\n",
       "      <td>Mughlai, North Indian, Chinese</td>\n",
       "      <td>250.0</td>\n",
       "      <td>₹99</td>\n",
       "      <td>3.7</td>\n",
       "      <td>176.0</td>\n",
       "      <td>95.0</td>\n",
       "      <td>30</td>\n",
       "      <td>Noida</td>\n",
       "    </tr>\n",
       "    <tr>\n",
       "      <th>4</th>\n",
       "      <td>ID_6123</td>\n",
       "      <td>Rmz Centennial, I Gate, Whitefield</td>\n",
       "      <td>Cafe, Beverages</td>\n",
       "      <td>200.0</td>\n",
       "      <td>₹99</td>\n",
       "      <td>3.2</td>\n",
       "      <td>521.0</td>\n",
       "      <td>235.0</td>\n",
       "      <td>65</td>\n",
       "      <td>Whitefield</td>\n",
       "    </tr>\n",
       "  </tbody>\n",
       "</table>\n",
       "</div>"
      ],
      "text/plain": [
       "  Restaurant                             Location  \\\n",
       "0    ID_6321  FTI College, Law College Road, Pune   \n",
       "1    ID_2882                 Sector 3, Marathalli   \n",
       "2    ID_1595                       Mumbai Central   \n",
       "3    ID_5929                      Sector 1, Noida   \n",
       "4    ID_6123   Rmz Centennial, I Gate, Whitefield   \n",
       "\n",
       "                                 Cuisines  Average_Cost Minimum_Order  Rating  \\\n",
       "0  Fast Food, Rolls, Burger, Salad, Wraps         200.0           ₹50     3.5   \n",
       "1                     Ice Cream, Desserts         100.0           ₹50     3.5   \n",
       "2         Italian, Street Food, Fast Food         150.0           ₹50     3.6   \n",
       "3          Mughlai, North Indian, Chinese         250.0           ₹99     3.7   \n",
       "4                         Cafe, Beverages         200.0           ₹99     3.2   \n",
       "\n",
       "   Votes  Reviews  Delivery_Time            City  \n",
       "0   12.0      4.0             30            Pune  \n",
       "1   11.0      4.0             30      Marathalli  \n",
       "2   99.0     30.0             65  Mumbai Central  \n",
       "3  176.0     95.0             30           Noida  \n",
       "4  521.0    235.0             65      Whitefield  "
      ]
     },
     "metadata": {},
     "execution_count": 365
    }
   ],
   "metadata": {}
  },
  {
   "cell_type": "code",
   "execution_count": 366,
   "source": [
    "food['City'].value_counts()"
   ],
   "outputs": [
    {
     "output_type": "execute_result",
     "data": {
      "text/plain": [
       "Noida                         2086\n",
       "Pune                          1358\n",
       "Bangalore                      947\n",
       "Mumbai CST Area                661\n",
       "Kolkata                        546\n",
       "Delhi University-GTB Nagar     545\n",
       "Gurgoan                        493\n",
       "Timarpur                       472\n",
       "Mumbai Central                 459\n",
       "Whitefield                     457\n",
       "India Gate                     411\n",
       "Marathalli                     366\n",
       "Majestic                       334\n",
       "Delhi Cantt.                   326\n",
       "Maharashtra                    307\n",
       "Hyderabad                      294\n",
       "Delhi                          282\n",
       "Pune University                277\n",
       "Gurgaon                        260\n",
       "Mumbai                         109\n",
       "Begumpet                        81\n",
       "Electronic City                 22\n",
       "Name: City, dtype: int64"
      ]
     },
     "metadata": {},
     "execution_count": 366
    }
   ],
   "metadata": {}
  },
  {
   "cell_type": "code",
   "execution_count": 367,
   "source": [
    "def getCity(x):\r\n",
    "    if x in ['Mumbai CST Area', 'Mumbai Central', 'Maharashtra']: return 'Mumbai'\r\n",
    "    if x in ['Delhi University-GTB Nagar', 'Timarpur','India Gate', 'Delhi Cantt.' ]: return 'Delhi'\r\n",
    "    if x in ['Whitefield','Marathalli', 'Majestic', 'Electronic City' ]: return 'Bangalore'\r\n",
    "    if x in ['Begumpet']: return 'Hyderabad'\r\n",
    "    if x in ['Gurgoan']: return 'Gurgaon'\r\n",
    "    if x in ['Pune University']: return 'Pune'\r\n",
    "    return x\r\n",
    "    \r\n",
    "\r\n",
    "food['City'] = food['City'].apply(lambda x: getCity(x))"
   ],
   "outputs": [],
   "metadata": {}
  },
  {
   "cell_type": "code",
   "execution_count": 368,
   "source": [
    "food['City'].value_counts()"
   ],
   "outputs": [
    {
     "output_type": "execute_result",
     "data": {
      "text/plain": [
       "Bangalore    2126\n",
       "Noida        2086\n",
       "Delhi        2036\n",
       "Pune         1635\n",
       "Mumbai       1536\n",
       "Gurgaon       753\n",
       "Kolkata       546\n",
       "Hyderabad     375\n",
       "Name: City, dtype: int64"
      ]
     },
     "metadata": {},
     "execution_count": 368
    }
   ],
   "metadata": {}
  },
  {
   "cell_type": "code",
   "execution_count": 369,
   "source": [
    "food.to_csv(\"out/restaurant.csv\")"
   ],
   "outputs": [],
   "metadata": {}
  },
  {
   "cell_type": "code",
   "execution_count": 370,
   "source": [
    "food_city = food.groupby(by='City').agg({'Restaurant':'count', 'Average_Cost': np.average, 'Rating': np.average, 'Votes': np.average, 'Reviews': np.average}).round(2)\r\n",
    "print(food_city.sort_values(by='Restaurant', ascending=False))\r\n",
    "print(food_city.sort_values(by='Average_Cost', ascending=False))"
   ],
   "outputs": [
    {
     "output_type": "stream",
     "name": "stdout",
     "text": [
      "           Restaurant  Average_Cost  Rating   Votes  Reviews\n",
      "City                                                        \n",
      "Bangalore        2126        192.29    3.05  199.05    96.42\n",
      "Noida            2086        204.79    2.89  161.93    84.20\n",
      "Delhi            2036        205.89    2.95  201.52   103.45\n",
      "Pune             1635        216.82    3.01  246.58   123.00\n",
      "Mumbai           1536        223.40    3.07  236.86   119.99\n",
      "Gurgaon           753        201.66    2.75  103.08    49.54\n",
      "Kolkata           546        161.45    2.95  230.99   105.48\n",
      "Hyderabad         375        148.80    3.07  170.25    28.81\n",
      "           Restaurant  Average_Cost  Rating   Votes  Reviews\n",
      "City                                                        \n",
      "Mumbai           1536        223.40    3.07  236.86   119.99\n",
      "Pune             1635        216.82    3.01  246.58   123.00\n",
      "Delhi            2036        205.89    2.95  201.52   103.45\n",
      "Noida            2086        204.79    2.89  161.93    84.20\n",
      "Gurgaon           753        201.66    2.75  103.08    49.54\n",
      "Bangalore        2126        192.29    3.05  199.05    96.42\n",
      "Kolkata           546        161.45    2.95  230.99   105.48\n",
      "Hyderabad         375        148.80    3.07  170.25    28.81\n"
     ]
    }
   ],
   "metadata": {}
  },
  {
   "cell_type": "code",
   "execution_count": 371,
   "source": [
    "bins = [0, 1, 2, 3, 4, 5]\r\n",
    "labels = ['0-1','1-2','2-3','3-4','4-5']\r\n",
    "food['Rating_bins'] = pd.cut(food['Rating'], bins, labels=labels)\r\n",
    "food['Rating_bins'] = food['Rating_bins'].cat.add_categories('NoRating')\r\n",
    "food['Rating_bins'] = food['Rating_bins'].fillna('NoRating')\r\n",
    "#food.loc[food['Rating_bins'].isnull(), 'Rating_bins'] = 'NoRating'\r\n",
    "food.head()"
   ],
   "outputs": [
    {
     "output_type": "execute_result",
     "data": {
      "text/html": [
       "<div>\n",
       "<style scoped>\n",
       "    .dataframe tbody tr th:only-of-type {\n",
       "        vertical-align: middle;\n",
       "    }\n",
       "\n",
       "    .dataframe tbody tr th {\n",
       "        vertical-align: top;\n",
       "    }\n",
       "\n",
       "    .dataframe thead th {\n",
       "        text-align: right;\n",
       "    }\n",
       "</style>\n",
       "<table border=\"1\" class=\"dataframe\">\n",
       "  <thead>\n",
       "    <tr style=\"text-align: right;\">\n",
       "      <th></th>\n",
       "      <th>Restaurant</th>\n",
       "      <th>Location</th>\n",
       "      <th>Cuisines</th>\n",
       "      <th>Average_Cost</th>\n",
       "      <th>Minimum_Order</th>\n",
       "      <th>Rating</th>\n",
       "      <th>Votes</th>\n",
       "      <th>Reviews</th>\n",
       "      <th>Delivery_Time</th>\n",
       "      <th>City</th>\n",
       "      <th>Rating_bins</th>\n",
       "    </tr>\n",
       "  </thead>\n",
       "  <tbody>\n",
       "    <tr>\n",
       "      <th>0</th>\n",
       "      <td>ID_6321</td>\n",
       "      <td>FTI College, Law College Road, Pune</td>\n",
       "      <td>Fast Food, Rolls, Burger, Salad, Wraps</td>\n",
       "      <td>200.0</td>\n",
       "      <td>₹50</td>\n",
       "      <td>3.5</td>\n",
       "      <td>12.0</td>\n",
       "      <td>4.0</td>\n",
       "      <td>30</td>\n",
       "      <td>Pune</td>\n",
       "      <td>3-4</td>\n",
       "    </tr>\n",
       "    <tr>\n",
       "      <th>1</th>\n",
       "      <td>ID_2882</td>\n",
       "      <td>Sector 3, Marathalli</td>\n",
       "      <td>Ice Cream, Desserts</td>\n",
       "      <td>100.0</td>\n",
       "      <td>₹50</td>\n",
       "      <td>3.5</td>\n",
       "      <td>11.0</td>\n",
       "      <td>4.0</td>\n",
       "      <td>30</td>\n",
       "      <td>Bangalore</td>\n",
       "      <td>3-4</td>\n",
       "    </tr>\n",
       "    <tr>\n",
       "      <th>2</th>\n",
       "      <td>ID_1595</td>\n",
       "      <td>Mumbai Central</td>\n",
       "      <td>Italian, Street Food, Fast Food</td>\n",
       "      <td>150.0</td>\n",
       "      <td>₹50</td>\n",
       "      <td>3.6</td>\n",
       "      <td>99.0</td>\n",
       "      <td>30.0</td>\n",
       "      <td>65</td>\n",
       "      <td>Mumbai</td>\n",
       "      <td>3-4</td>\n",
       "    </tr>\n",
       "    <tr>\n",
       "      <th>3</th>\n",
       "      <td>ID_5929</td>\n",
       "      <td>Sector 1, Noida</td>\n",
       "      <td>Mughlai, North Indian, Chinese</td>\n",
       "      <td>250.0</td>\n",
       "      <td>₹99</td>\n",
       "      <td>3.7</td>\n",
       "      <td>176.0</td>\n",
       "      <td>95.0</td>\n",
       "      <td>30</td>\n",
       "      <td>Noida</td>\n",
       "      <td>3-4</td>\n",
       "    </tr>\n",
       "    <tr>\n",
       "      <th>4</th>\n",
       "      <td>ID_6123</td>\n",
       "      <td>Rmz Centennial, I Gate, Whitefield</td>\n",
       "      <td>Cafe, Beverages</td>\n",
       "      <td>200.0</td>\n",
       "      <td>₹99</td>\n",
       "      <td>3.2</td>\n",
       "      <td>521.0</td>\n",
       "      <td>235.0</td>\n",
       "      <td>65</td>\n",
       "      <td>Bangalore</td>\n",
       "      <td>3-4</td>\n",
       "    </tr>\n",
       "  </tbody>\n",
       "</table>\n",
       "</div>"
      ],
      "text/plain": [
       "  Restaurant                             Location  \\\n",
       "0    ID_6321  FTI College, Law College Road, Pune   \n",
       "1    ID_2882                 Sector 3, Marathalli   \n",
       "2    ID_1595                       Mumbai Central   \n",
       "3    ID_5929                      Sector 1, Noida   \n",
       "4    ID_6123   Rmz Centennial, I Gate, Whitefield   \n",
       "\n",
       "                                 Cuisines  Average_Cost Minimum_Order  Rating  \\\n",
       "0  Fast Food, Rolls, Burger, Salad, Wraps         200.0           ₹50     3.5   \n",
       "1                     Ice Cream, Desserts         100.0           ₹50     3.5   \n",
       "2         Italian, Street Food, Fast Food         150.0           ₹50     3.6   \n",
       "3          Mughlai, North Indian, Chinese         250.0           ₹99     3.7   \n",
       "4                         Cafe, Beverages         200.0           ₹99     3.2   \n",
       "\n",
       "   Votes  Reviews  Delivery_Time       City Rating_bins  \n",
       "0   12.0      4.0             30       Pune         3-4  \n",
       "1   11.0      4.0             30  Bangalore         3-4  \n",
       "2   99.0     30.0             65     Mumbai         3-4  \n",
       "3  176.0     95.0             30      Noida         3-4  \n",
       "4  521.0    235.0             65  Bangalore         3-4  "
      ]
     },
     "metadata": {},
     "execution_count": 371
    }
   ],
   "metadata": {}
  },
  {
   "cell_type": "code",
   "execution_count": 373,
   "source": [
    "food_rating = food.groupby(by=['Rating_bins']).agg({'Restaurant':'count'})\r\n",
    "ax = food_rating.plot.bar(figsize=(10,6))\r\n",
    "for p in ax.patches:\r\n",
    "    ax.annotate(str(p.get_height()), (p.get_x()*1.025, p.get_height()+20))"
   ],
   "outputs": [
    {
     "output_type": "display_data",
     "data": {
      "image/png": "[encoded data removed]",
      "text/plain": [
       "<Figure size 720x432 with 1 Axes>"
      ]
     },
     "metadata": {
      "needs_background": "light"
     }
    }
   ],
   "metadata": {}
  },
  {
   "cell_type": "code",
   "execution_count": 378,
   "source": [
    "food_mico = food[food['Location']=='Mico Layout, Stage 2, BTM Layout,Bangalore'] \r\n",
    "food_mico"
   ],
   "outputs": [
    {
     "output_type": "execute_result",
     "data": {
      "text/html": [
       "<div>\n",
       "<style scoped>\n",
       "    .dataframe tbody tr th:only-of-type {\n",
       "        vertical-align: middle;\n",
       "    }\n",
       "\n",
       "    .dataframe tbody tr th {\n",
       "        vertical-align: top;\n",
       "    }\n",
       "\n",
       "    .dataframe thead th {\n",
       "        text-align: right;\n",
       "    }\n",
       "</style>\n",
       "<table border=\"1\" class=\"dataframe\">\n",
       "  <thead>\n",
       "    <tr style=\"text-align: right;\">\n",
       "      <th></th>\n",
       "      <th>Restaurant</th>\n",
       "      <th>Location</th>\n",
       "      <th>Cuisines</th>\n",
       "      <th>Average_Cost</th>\n",
       "      <th>Minimum_Order</th>\n",
       "      <th>Rating</th>\n",
       "      <th>Votes</th>\n",
       "      <th>Reviews</th>\n",
       "      <th>Delivery_Time</th>\n",
       "      <th>City</th>\n",
       "      <th>Rating_bins</th>\n",
       "    </tr>\n",
       "  </thead>\n",
       "  <tbody>\n",
       "    <tr>\n",
       "      <th>25</th>\n",
       "      <td>ID_4944</td>\n",
       "      <td>Mico Layout, Stage 2, BTM Layout,Bangalore</td>\n",
       "      <td>Desserts, Ice Cream</td>\n",
       "      <td>100.0</td>\n",
       "      <td>₹50</td>\n",
       "      <td>0.0</td>\n",
       "      <td>0.0</td>\n",
       "      <td>0.0</td>\n",
       "      <td>45</td>\n",
       "      <td>Bangalore</td>\n",
       "      <td>NoRating</td>\n",
       "    </tr>\n",
       "    <tr>\n",
       "      <th>47</th>\n",
       "      <td>ID_2809</td>\n",
       "      <td>Mico Layout, Stage 2, BTM Layout,Bangalore</td>\n",
       "      <td>Chinese</td>\n",
       "      <td>200.0</td>\n",
       "      <td>₹50</td>\n",
       "      <td>0.0</td>\n",
       "      <td>0.0</td>\n",
       "      <td>0.0</td>\n",
       "      <td>30</td>\n",
       "      <td>Bangalore</td>\n",
       "      <td>NoRating</td>\n",
       "    </tr>\n",
       "    <tr>\n",
       "      <th>58</th>\n",
       "      <td>ID_156</td>\n",
       "      <td>Mico Layout, Stage 2, BTM Layout,Bangalore</td>\n",
       "      <td>Rolls, Chinese</td>\n",
       "      <td>100.0</td>\n",
       "      <td>₹50</td>\n",
       "      <td>3.7</td>\n",
       "      <td>18.0</td>\n",
       "      <td>6.0</td>\n",
       "      <td>30</td>\n",
       "      <td>Bangalore</td>\n",
       "      <td>3-4</td>\n",
       "    </tr>\n",
       "    <tr>\n",
       "      <th>67</th>\n",
       "      <td>ID_8414</td>\n",
       "      <td>Mico Layout, Stage 2, BTM Layout,Bangalore</td>\n",
       "      <td>Desserts, Beverages, American</td>\n",
       "      <td>200.0</td>\n",
       "      <td>₹50</td>\n",
       "      <td>3.9</td>\n",
       "      <td>51.0</td>\n",
       "      <td>29.0</td>\n",
       "      <td>45</td>\n",
       "      <td>Bangalore</td>\n",
       "      <td>3-4</td>\n",
       "    </tr>\n",
       "    <tr>\n",
       "      <th>92</th>\n",
       "      <td>ID_5076</td>\n",
       "      <td>Mico Layout, Stage 2, BTM Layout,Bangalore</td>\n",
       "      <td>South Indian, North Indian</td>\n",
       "      <td>100.0</td>\n",
       "      <td>₹50</td>\n",
       "      <td>3.7</td>\n",
       "      <td>27.0</td>\n",
       "      <td>5.0</td>\n",
       "      <td>30</td>\n",
       "      <td>Bangalore</td>\n",
       "      <td>3-4</td>\n",
       "    </tr>\n",
       "    <tr>\n",
       "      <th>...</th>\n",
       "      <td>...</td>\n",
       "      <td>...</td>\n",
       "      <td>...</td>\n",
       "      <td>...</td>\n",
       "      <td>...</td>\n",
       "      <td>...</td>\n",
       "      <td>...</td>\n",
       "      <td>...</td>\n",
       "      <td>...</td>\n",
       "      <td>...</td>\n",
       "      <td>...</td>\n",
       "    </tr>\n",
       "    <tr>\n",
       "      <th>11027</th>\n",
       "      <td>ID_5321</td>\n",
       "      <td>Mico Layout, Stage 2, BTM Layout,Bangalore</td>\n",
       "      <td>Biryani, Hyderabadi, North Indian, Mughlai</td>\n",
       "      <td>100.0</td>\n",
       "      <td>₹99</td>\n",
       "      <td>0.0</td>\n",
       "      <td>0.0</td>\n",
       "      <td>0.0</td>\n",
       "      <td>30</td>\n",
       "      <td>Bangalore</td>\n",
       "      <td>NoRating</td>\n",
       "    </tr>\n",
       "    <tr>\n",
       "      <th>11030</th>\n",
       "      <td>ID_7380</td>\n",
       "      <td>Mico Layout, Stage 2, BTM Layout,Bangalore</td>\n",
       "      <td>North Indian, Chinese</td>\n",
       "      <td>100.0</td>\n",
       "      <td>₹50</td>\n",
       "      <td>3.2</td>\n",
       "      <td>5.0</td>\n",
       "      <td>1.0</td>\n",
       "      <td>30</td>\n",
       "      <td>Bangalore</td>\n",
       "      <td>3-4</td>\n",
       "    </tr>\n",
       "    <tr>\n",
       "      <th>11033</th>\n",
       "      <td>ID_4722</td>\n",
       "      <td>Mico Layout, Stage 2, BTM Layout,Bangalore</td>\n",
       "      <td>Fast Food</td>\n",
       "      <td>100.0</td>\n",
       "      <td>₹50</td>\n",
       "      <td>0.0</td>\n",
       "      <td>0.0</td>\n",
       "      <td>0.0</td>\n",
       "      <td>45</td>\n",
       "      <td>Bangalore</td>\n",
       "      <td>NoRating</td>\n",
       "    </tr>\n",
       "    <tr>\n",
       "      <th>11071</th>\n",
       "      <td>ID_3344</td>\n",
       "      <td>Mico Layout, Stage 2, BTM Layout,Bangalore</td>\n",
       "      <td>North Indian, Chinese</td>\n",
       "      <td>200.0</td>\n",
       "      <td>₹50</td>\n",
       "      <td>3.6</td>\n",
       "      <td>24.0</td>\n",
       "      <td>3.0</td>\n",
       "      <td>30</td>\n",
       "      <td>Bangalore</td>\n",
       "      <td>3-4</td>\n",
       "    </tr>\n",
       "    <tr>\n",
       "      <th>11075</th>\n",
       "      <td>ID_8576</td>\n",
       "      <td>Mico Layout, Stage 2, BTM Layout,Bangalore</td>\n",
       "      <td>Beverages, Juices</td>\n",
       "      <td>100.0</td>\n",
       "      <td>₹50</td>\n",
       "      <td>3.2</td>\n",
       "      <td>6.0</td>\n",
       "      <td>4.0</td>\n",
       "      <td>30</td>\n",
       "      <td>Bangalore</td>\n",
       "      <td>3-4</td>\n",
       "    </tr>\n",
       "  </tbody>\n",
       "</table>\n",
       "<p>947 rows × 11 columns</p>\n",
       "</div>"
      ],
      "text/plain": [
       "      Restaurant                                    Location  \\\n",
       "25       ID_4944  Mico Layout, Stage 2, BTM Layout,Bangalore   \n",
       "47       ID_2809  Mico Layout, Stage 2, BTM Layout,Bangalore   \n",
       "58        ID_156  Mico Layout, Stage 2, BTM Layout,Bangalore   \n",
       "67       ID_8414  Mico Layout, Stage 2, BTM Layout,Bangalore   \n",
       "92       ID_5076  Mico Layout, Stage 2, BTM Layout,Bangalore   \n",
       "...          ...                                         ...   \n",
       "11027    ID_5321  Mico Layout, Stage 2, BTM Layout,Bangalore   \n",
       "11030    ID_7380  Mico Layout, Stage 2, BTM Layout,Bangalore   \n",
       "11033    ID_4722  Mico Layout, Stage 2, BTM Layout,Bangalore   \n",
       "11071    ID_3344  Mico Layout, Stage 2, BTM Layout,Bangalore   \n",
       "11075    ID_8576  Mico Layout, Stage 2, BTM Layout,Bangalore   \n",
       "\n",
       "                                         Cuisines  Average_Cost Minimum_Order  \\\n",
       "25                            Desserts, Ice Cream         100.0           ₹50   \n",
       "47                                        Chinese         200.0           ₹50   \n",
       "58                                 Rolls, Chinese         100.0           ₹50   \n",
       "67                  Desserts, Beverages, American         200.0           ₹50   \n",
       "92                     South Indian, North Indian         100.0           ₹50   \n",
       "...                                           ...           ...           ...   \n",
       "11027  Biryani, Hyderabadi, North Indian, Mughlai         100.0           ₹99   \n",
       "11030                       North Indian, Chinese         100.0           ₹50   \n",
       "11033                                   Fast Food         100.0           ₹50   \n",
       "11071                       North Indian, Chinese         200.0           ₹50   \n",
       "11075                           Beverages, Juices         100.0           ₹50   \n",
       "\n",
       "       Rating  Votes  Reviews  Delivery_Time       City Rating_bins  \n",
       "25        0.0    0.0      0.0             45  Bangalore    NoRating  \n",
       "47        0.0    0.0      0.0             30  Bangalore    NoRating  \n",
       "58        3.7   18.0      6.0             30  Bangalore         3-4  \n",
       "67        3.9   51.0     29.0             45  Bangalore         3-4  \n",
       "92        3.7   27.0      5.0             30  Bangalore         3-4  \n",
       "...       ...    ...      ...            ...        ...         ...  \n",
       "11027     0.0    0.0      0.0             30  Bangalore    NoRating  \n",
       "11030     3.2    5.0      1.0             30  Bangalore         3-4  \n",
       "11033     0.0    0.0      0.0             45  Bangalore    NoRating  \n",
       "11071     3.6   24.0      3.0             30  Bangalore         3-4  \n",
       "11075     3.2    6.0      4.0             30  Bangalore         3-4  \n",
       "\n",
       "[947 rows x 11 columns]"
      ]
     },
     "metadata": {},
     "execution_count": 378
    }
   ],
   "metadata": {}
  },
  {
   "cell_type": "code",
   "execution_count": 390,
   "source": [
    "food_mico_ = food_mico.groupby(by=['Rating_bins', 'Delivery_Time']).agg({'Restaurant':'count'}) #\r\n",
    "#print(food_mico_)\r\n",
    "food_mico_pc = food_mico_.groupby(level=0).apply(lambda x: round(100 * x / float(x.sum()),1))\r\n",
    "food_mico_pc = food_mico__.fillna(0)\r\n",
    "food_mico_pc.columns = ['Restaurant_pc']\r\n",
    "#food_mico_pc\r\n",
    "\r\n",
    "food_mico_summary = pd.concat([food_mico_, food_mico_pc],axis=1)\r\n",
    "print(food_mico_summary)\r\n",
    "\r\n",
    "food_mico_summary.plot.bar(figsize=(10,6))#\r\n",
    "#food_mico.plot.bar(y='Delivery_Time_pc', figsize=(10,6))"
   ],
   "outputs": [
    {
     "output_type": "stream",
     "name": "stdout",
     "text": [
      "                           Restaurant  Restaurant_pc\n",
      "Rating_bins Delivery_Time                           \n",
      "0-1         20                      0            0.0\n",
      "            30                      0            0.0\n",
      "            45                      0            0.0\n",
      "            65                      0            0.0\n",
      "            120                     0            0.0\n",
      "1-2         20                      0            0.0\n",
      "            30                      0            0.0\n",
      "            45                      0            0.0\n",
      "            65                      0            0.0\n",
      "            120                     0            0.0\n",
      "2-3         20                      0            0.0\n",
      "            30                     16           45.7\n",
      "            45                     12           34.3\n",
      "            65                      7           20.0\n",
      "            120                     0            0.0\n",
      "3-4         20                      2            0.3\n",
      "            30                    396           64.9\n",
      "            45                    176           28.9\n",
      "            65                     34            5.6\n",
      "            120                     2            0.3\n",
      "4-5         20                      0            0.0\n",
      "            30                     84           54.2\n",
      "            45                     55           35.5\n",
      "            65                     16           10.3\n",
      "            120                     0            0.0\n",
      "NoRating    20                      0            0.0\n",
      "            30                    138           93.9\n",
      "            45                      8            5.4\n",
      "            65                      1            0.7\n",
      "            120                     0            0.0\n"
     ]
    },
    {
     "output_type": "execute_result",
     "data": {
      "text/plain": [
       "<AxesSubplot:xlabel='Rating_bins,Delivery_Time'>"
      ]
     },
     "metadata": {},
     "execution_count": 390
    },
    {
     "output_type": "display_data",
     "data": {
      "image/png": "[encoded data removed]",
      "text/plain": [
       "<Figure size 720x432 with 1 Axes>"
      ]
     },
     "metadata": {
      "needs_background": "light"
     }
    }
   ],
   "metadata": {}
  },
  {
   "cell_type": "code",
   "execution_count": 394,
   "source": [
    "food.shape[0]"
   ],
   "outputs": [
    {
     "output_type": "execute_result",
     "data": {
      "text/plain": [
       "11093"
      ]
     },
     "metadata": {},
     "execution_count": 394
    }
   ],
   "metadata": {}
  },
  {
   "cell_type": "code",
   "execution_count": 396,
   "source": [
    "food_ = food.groupby(by=['Rating_bins', 'Delivery_Time']).agg({'Restaurant':'count'}) #\r\n",
    "#print(food_mico_)\r\n",
    "food_pc = food_.groupby(level=0).apply(lambda x: round(100 * x / 11093,1)) #float(x.sum()),1))\r\n",
    "food_pc = food_pc.fillna(0)\r\n",
    "food_pc.columns = ['Restaurant_pc']\r\n",
    "\r\n",
    "food_summary = pd.concat([food_, food_pc],axis=1)\r\n",
    "print(food_summary.head())\r\n",
    "\r\n",
    "food_summary.plot.bar(y = ['Restaurant_pc'], figsize=(10,6))#"
   ],
   "outputs": [
    {
     "output_type": "stream",
     "name": "stdout",
     "text": [
      "                           Restaurant  Restaurant_pc\n",
      "Rating_bins Delivery_Time                           \n",
      "0-1         10                      0            0.0\n",
      "            20                      0            0.0\n",
      "            30                      0            0.0\n",
      "            45                      0            0.0\n",
      "            65                      0            0.0\n"
     ]
    },
    {
     "output_type": "execute_result",
     "data": {
      "text/plain": [
       "<AxesSubplot:xlabel='Rating_bins,Delivery_Time'>"
      ]
     },
     "metadata": {},
     "execution_count": 396
    },
    {
     "output_type": "display_data",
     "data": {
      "image/png": "[encoded data removed]",
      "text/plain": [
       "<Figure size 720x432 with 1 Axes>"
      ]
     },
     "metadata": {
      "needs_background": "light"
     }
    }
   ],
   "metadata": {}
  },
  {
   "cell_type": "code",
   "execution_count": 404,
   "source": [
    "food_ = food.groupby(by=['Location', 'Rating_bins']).agg({'Restaurant':'count'}) # , 'Delivery_Time']\r\n",
    "food_pc = food_.groupby(level=0).apply(lambda x: round(100 * x / 11093,1)) #float(x.sum()),1))\r\n",
    "food_pc = food_pc.fillna(0)\r\n",
    "food_pc.columns = ['Restaurant_pc']\r\n",
    "\r\n",
    "food_summary = pd.concat([food_, food_pc],axis=1)\r\n",
    "print(food_summary.head())\r\n",
    "\r\n",
    "food_summary = food_summary.reset_index()\r\n",
    "food_summary[food_summary['Rating_bins'].isin(['2-3','3-4','4-5'])]\r\n",
    "food_summary[food_summary['Rating_bins'].isin(['2-3','3-4','4-5'])].plot.bar(x='Location', y = ['Restaurant_pc'], figsize=(30,10))#"
   ],
   "outputs": [
    {
     "output_type": "stream",
     "name": "stdout",
     "text": [
      "                                           Restaurant  Restaurant_pc\n",
      "Location                      Rating_bins                           \n",
      "BTM Layout 1, Electronic City 0-1                   0            0.0\n",
      "                              1-2                   0            0.0\n",
      "                              2-3                   0            0.0\n",
      "                              3-4                  13            0.1\n",
      "                              4-5                   9            0.1\n"
     ]
    },
    {
     "output_type": "execute_result",
     "data": {
      "text/plain": [
       "<AxesSubplot:xlabel='Location'>"
      ]
     },
     "metadata": {},
     "execution_count": 404
    },
    {
     "output_type": "display_data",
     "data": {
      "image/png": "[encoded data removed]",
      "text/plain": [
       "<Figure size 2160x720 with 1 Axes>"
      ]
     },
     "metadata": {
      "needs_background": "light"
     }
    }
   ],
   "metadata": {}
  },
  {
   "cell_type": "code",
   "execution_count": 407,
   "source": [
    "print(food['Average_Cost'].min(), food['Average_Cost'].max(), food['Average_Cost'].median(), food['Average_Cost'].mean())"
   ],
   "outputs": [
    {
     "output_type": "stream",
     "name": "stdout",
     "text": [
      "50.0 2050.0 200.0 202.7089155323177\n"
     ]
    }
   ],
   "metadata": {}
  },
  {
   "cell_type": "markdown",
   "source": [
    "## food_restaurant"
   ],
   "metadata": {}
  },
  {
   "cell_type": "code",
   "execution_count": null,
   "source": [
    "food.columns"
   ],
   "outputs": [],
   "metadata": {}
  },
  {
   "cell_type": "markdown",
   "source": [
    "### food_restaurant_cuisine"
   ],
   "metadata": {}
  },
  {
   "cell_type": "code",
   "execution_count": null,
   "source": [
    "food_restaurant_1 = food.groupby(by=['Restaurant', 'Cuisines']).agg({'Cuisines':'count', 'City': 'nunique', 'Rating':np.average, 'Votes': np.average, 'Reviews':np.average}).round(2)\r\n",
    "food_restaurant_1.rename(columns={'Cuisines':'Count'}, inplace=True)\r\n",
    "food_restaurant_1.reset_index(inplace=True)\r\n",
    "print(food_restaurant_1.sort_values(by='Count', ascending=False))"
   ],
   "outputs": [],
   "metadata": {}
  },
  {
   "cell_type": "code",
   "execution_count": null,
   "source": [
    "print(food_restaurant_1.sort_values(by='Count', ascending=False)[:10])"
   ],
   "outputs": [],
   "metadata": {}
  },
  {
   "cell_type": "code",
   "execution_count": null,
   "source": [
    "food_restaurant_1.columns"
   ],
   "outputs": [],
   "metadata": {}
  },
  {
   "cell_type": "code",
   "execution_count": null,
   "source": [
    "food_restaurant_1[food_restaurant_1['Restaurant'].isin(['ID_7184','ID_7295','ID_4625'])]"
   ],
   "outputs": [],
   "metadata": {}
  },
  {
   "cell_type": "markdown",
   "source": [
    "### food_restaurant"
   ],
   "metadata": {}
  },
  {
   "cell_type": "code",
   "execution_count": null,
   "source": [
    "food_restaurant = food.groupby(by='Restaurant').agg({'Cuisines':'count', 'City': 'nunique', 'Average_Cost': np.average, \r\n",
    "                                                        'Rating':np.average, 'Votes': np.average, 'Reviews':np.average}).round(2)\r\n",
    "food_restaurant.rename(columns={'Cuisines':'Count'}, inplace=True)\r\n",
    "print(food_restaurant.sort_values(by='Count', ascending=False))"
   ],
   "outputs": [],
   "metadata": {}
  },
  {
   "cell_type": "code",
   "execution_count": null,
   "source": [
    "print(food_restaurant.sort_values(by='Rating', ascending=False))"
   ],
   "outputs": [],
   "metadata": {}
  },
  {
   "cell_type": "code",
   "execution_count": null,
   "source": [
    "food_restaurant['Rating'].value_counts().to_frame().reset_index().rename(columns={'Rating':'Count', 'index':'Rating'}).sort_values(by='Rating',ascending=False)"
   ],
   "outputs": [],
   "metadata": {}
  },
  {
   "cell_type": "code",
   "execution_count": null,
   "source": [
    "## Bin the rating and plot rating to number of restaurants"
   ],
   "outputs": [],
   "metadata": {}
  },
  {
   "cell_type": "code",
   "execution_count": null,
   "source": [
    "food_restaurant[food_restaurant['Rating']==4.9].reset_index()#.join(food, how='left', on='Restaurant', lsuffix='_l')"
   ],
   "outputs": [],
   "metadata": {}
  },
  {
   "cell_type": "code",
   "execution_count": null,
   "source": [
    "food[food['Restaurant']=='ID_7184']"
   ],
   "outputs": [],
   "metadata": {}
  },
  {
   "cell_type": "code",
   "execution_count": null,
   "source": [
    "food_restaurant.to_csv(\"out/food_restaurant.csv\")"
   ],
   "outputs": [],
   "metadata": {}
  },
  {
   "cell_type": "markdown",
   "source": [
    "## food_categories"
   ],
   "metadata": {}
  },
  {
   "cell_type": "code",
   "execution_count": null,
   "source": [
    "cuisines_ = food['Cuisines'].value_counts().index.tolist()\r\n",
    "cuisines = []\r\n",
    "for c in cuisines_:\r\n",
    "    cuisines.extend([i.strip() for i in c.split(',')])\r\n",
    "cuisines = list(set(cuisines))\r\n",
    "cuisines = sorted(cuisines)\r\n",
    "print(len(cuisines), cuisines)"
   ],
   "outputs": [],
   "metadata": {}
  },
  {
   "cell_type": "code",
   "execution_count": null,
   "source": [
    "cuisines_ = food['Cuisines'].value_counts().index.tolist()\r\n",
    "cuisines_restaurants_ = {}\r\n",
    "for c in cuisines_:\r\n",
    "    for i in c.split(','):\r\n",
    "        cuisine = i.strip()\r\n",
    "        if cuisine in cuisines_restaurants_.keys():\r\n",
    "            cuisines_restaurants_[cuisine] += 1\r\n",
    "        else:\r\n",
    "            cuisines_restaurants_[cuisine] = 1   \r\n",
    "cuisines_restaurants_ = dict(sorted(cuisines_restaurants_.items(), key=lambda item: item[1], reverse=True))   \r\n",
    "print(len(cuisines_restaurants_), cuisines_restaurants_)\r\n",
    "cuisines_restaurants = pd.DataFrame(list(zip(cuisines_restaurants_.keys(), cuisines_restaurants_.values())), columns=['Cuisine','Number of Restaurants'])\r\n",
    "cuisines_restaurants.head()\r\n",
    "cuisines_restaurants.to_csv('out/cuisines_restaurants.csv')"
   ],
   "outputs": [],
   "metadata": {}
  },
  {
   "cell_type": "code",
   "execution_count": null,
   "source": [
    "food_Categories = {   \r\n",
    "    'Indian - Regional' : ['Andhra', 'Assamese', 'Awadhi','Bengali', 'Bihari', 'Chettinad',  'Kashmiri','Kerala', 'Goan', 'Gujarati', 'Hyderabadi', \r\n",
    "                        'Konkan',  'Lucknowi', 'Maharashtrian', 'Malwani', 'Mangalorean','Naga','North Eastern', 'North Indian', 'Odia','Rajasthani',\r\n",
    "                         'South Indian', 'Tamil' ],\r\n",
    "    'International' : ['Afghan', 'African', 'American', 'Arabian', 'Asian', 'Bangladeshi', 'Belgian', 'Brazilian','Burmese', 'Cantonese', 'Chinese', \r\n",
    "                    'European','French', 'German', 'Greek', 'Indonesian', 'Iranian', 'Israeli', 'Italian', 'Japanese', 'Korean', 'Lebanese',\r\n",
    "                    'Malaysian', 'Mediterranean', 'Mexican', 'Middle Eastern',  'Nepalese', 'Portuguese', 'South American', 'Spanish', 'Sri Lankan',\r\n",
    "                    'Thai', 'Tibetan', 'Turkish', 'Vietnamese']\r\n",
    "}   \r\n",
    "\r\n",
    "''' \r\n",
    " BBQ', 'Bakery',  'Bar Food',  'Beverages', 'Biryani', 'Bohri',  'Bubble Tea', 'Burger', \r\n",
    " 'Cafe', 'Charcoal Chicken',  'Coffee', 'Continental', 'Desserts', 'Fast Food', 'Finger Food', 'Frozen Yogurt', \r\n",
    "   'Healthy Food', 'Hot dogs', 'Ice Cream', 'Indian',  'Juices', 'Kebab', \r\n",
    "   'Mishti', 'Mithai', 'Modern Indian', 'Momos', \r\n",
    "  'Mughlai',  'Paan', 'Parsi', 'Pizza', 'Poké',  'Raw Meats', 'Roast Chicken', \r\n",
    "  'Rolls', 'Salad', 'Sandwich', 'Seafood', 'Steak', 'Street Food', 'Sushi', 'Tea', 'Tex-Mex',  'Wraps'''"
   ],
   "outputs": [],
   "metadata": {}
  },
  {
   "cell_type": "code",
   "execution_count": null,
   "source": [
    "def getCategory(x):\n",
    "    #print(x.split(','))\n",
    "    for i in x.split(','):\n",
    "        if i in food_Categories['Indian - Regional']:\n",
    "            return 'Indian'\n",
    "        if i in food_Categories['International']:\n",
    "            return 'International'\n",
    "    return 'No Idea'\n",
    "        \n",
    "\n",
    "food['category'] = food['Cuisines'].apply(lambda x: getCategory(x))\n",
    "food.head()"
   ],
   "outputs": [],
   "metadata": {}
  },
  {
   "cell_type": "code",
   "execution_count": null,
   "source": [
    "food[food['category'] == 'Indian']"
   ],
   "outputs": [],
   "metadata": {}
  },
  {
   "cell_type": "code",
   "execution_count": null,
   "source": [
    "food[food['category'] == 'International']"
   ],
   "outputs": [],
   "metadata": {}
  },
  {
   "cell_type": "code",
   "execution_count": null,
   "source": [
    "food[food['category'] == 'No Idea'].shape[0]"
   ],
   "outputs": [],
   "metadata": {}
  },
  {
   "cell_type": "code",
   "execution_count": null,
   "source": [
    "food['Cuisines']"
   ],
   "outputs": [],
   "metadata": {}
  }
 ],
 "metadata": {
  "orig_nbformat": 4,
  "language_info": {
   "name": "python",
   "version": "3.9.7",
   "mimetype": "text/x-python",
   "codemirror_mode": {
    "name": "ipython",
    "version": 3
   },
   "pygments_lexer": "ipython3",
   "nbconvert_exporter": "python",
   "file_extension": ".py"
  },
  "kernelspec": {
   "name": "python3",
   "display_name": "Python 3.9.7 64-bit ('venv': venv)"
  },
  "interpreter": {
   "hash": "29cc6091e44edb4f2d66431b0ff111a05f75a1beedd79794712d88fc9581a3f2"
  }
 },
 "nbformat": 4,
 "nbformat_minor": 2
}